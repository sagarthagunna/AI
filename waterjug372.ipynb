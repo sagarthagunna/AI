{
  "nbformat": 4,
  "nbformat_minor": 0,
  "metadata": {
    "colab": {
      "provenance": [],
      "authorship_tag": "ABX9TyMqEoeuyYTv7Xg58vgJOebU",
      "include_colab_link": true
    },
    "kernelspec": {
      "name": "python3",
      "display_name": "Python 3"
    },
    "language_info": {
      "name": "python"
    }
  },
  "cells": [
    {
      "cell_type": "markdown",
      "metadata": {
        "id": "view-in-github",
        "colab_type": "text"
      },
      "source": [
        "<a href=\"https://colab.research.google.com/github/sagarthagunna/AI/blob/main/waterjug372.ipynb\" target=\"_parent\"><img src=\"https://colab.research.google.com/assets/colab-badge.svg\" alt=\"Open In Colab\"/></a>"
      ]
    },
    {
      "cell_type": "code",
      "execution_count": null,
      "metadata": {
        "colab": {
          "base_uri": "https://localhost:8080/"
        },
        "id": "7oz7kknTubC1",
        "outputId": "1aaa0291-ee86-429a-c2eb-52f94c756eeb"
      },
      "outputs": [
        {
          "output_type": "stream",
          "name": "stdout",
          "text": [
            "Goal found: (2, 0)\n"
          ]
        }
      ],
      "source": [
        "from collections import deque\n",
        "class WaterJug:\n",
        "    def __init__(self, initial_state=(0, 0), goal_state=(2, 0)):\n",
        "        # Define the initial and goal states\n",
        "        self.initial_state = initial_state  # Initial state: (0, 0)\n",
        "        self.goal_state = goal_state  # Goal state: (2, 0)\n",
        "\n",
        "    def successors(self, state):\n",
        "        X, Y = state\n",
        "        succ = []\n",
        "\n",
        "        # Action 1: Fill Jug X\n",
        "        if X < 4:\n",
        "            succ.append((4, Y))\n",
        "\n",
        "        # Action 2: Fill Jug Y\n",
        "        if Y < 3:\n",
        "            succ.append((X, 3))\n",
        "\n",
        "        # Action 3: Empty Jug X\n",
        "        if X > 0:\n",
        "            succ.append((0, Y))\n",
        "\n",
        "        # Action 4: Empty Jug Y\n",
        "        if Y > 0:\n",
        "            succ.append((X, 0))\n",
        "\n",
        "        # Action 5: Pour from X to Y\n",
        "        if X > 0 and Y < 3:\n",
        "            transfer = min(X, 3 - Y)\n",
        "            succ.append((X - transfer, Y + transfer))\n",
        "\n",
        "        # Action 6: Pour from Y to X\n",
        "        if Y > 0 and X < 4:\n",
        "            transfer = min(Y, 4 - X)\n",
        "            succ.append((X + transfer, Y - transfer))\n",
        "\n",
        "        return succ\n",
        "\n",
        "    def bfs(self, initial_state, goal_state):\n",
        "        open_queue = deque([initial_state])  # Queue of states to explore\n",
        "        closed_set = set()  # Set of explored states\n",
        "\n",
        "        while open_queue:\n",
        "            # Step 1: Pop from OPEN and add it to CLOSED\n",
        "            current_state = open_queue.popleft()\n",
        "            closed_set.add(current_state)\n",
        "\n",
        "            # Step 2: Goal test\n",
        "            if current_state == goal_state:\n",
        "                # Goal found\n",
        "                return current_state\n",
        "\n",
        "            # Step 3: Generate successors and add to OPEN if not in OPEN or CLOSED\n",
        "            for succ in self.successors(current_state):\n",
        "                if succ not in closed_set and succ not in open_queue:\n",
        "                    open_queue.append(succ)\n",
        "\n",
        "        return None\n",
        "\n",
        "    def run(self):\n",
        "        # Run BFS to find the solution\n",
        "        result = self.bfs(self.initial_state, self.goal_state)\n",
        "        if result is None:\n",
        "            print(\"Goal not found\")\n",
        "        else:\n",
        "            print(\"Goal found:\", result)\n",
        "\n",
        "\n",
        "# Create an instance of the WaterJug class and run it\n",
        "sol = WaterJug()\n",
        "sol.run()\n",
        "\n",
        "\n",
        "#Note: Implement path generate method to generate path of the solution"
      ]
    }
  ]
}