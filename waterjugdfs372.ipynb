{
  "nbformat": 4,
  "nbformat_minor": 0,
  "metadata": {
    "colab": {
      "provenance": [],
      "authorship_tag": "ABX9TyP/z9n+vS5QKY7hw0/sGZre",
      "include_colab_link": true
    },
    "kernelspec": {
      "name": "python3",
      "display_name": "Python 3"
    },
    "language_info": {
      "name": "python"
    }
  },
  "cells": [
    {
      "cell_type": "markdown",
      "metadata": {
        "id": "view-in-github",
        "colab_type": "text"
      },
      "source": [
        "<a href=\"https://colab.research.google.com/github/sagarthagunna/AI/blob/main/waterjugdfs372.ipynb\" target=\"_parent\"><img src=\"https://colab.research.google.com/assets/colab-badge.svg\" alt=\"Open In Colab\"/></a>"
      ]
    },
    {
      "cell_type": "code",
      "execution_count": null,
      "metadata": {
        "colab": {
          "base_uri": "https://localhost:8080/"
        },
        "id": "1seRuiLCx8hD",
        "outputId": "52527ef4-4d87-4869-86b6-57b38ddf6994"
      },
      "outputs": [
        {
          "output_type": "stream",
          "name": "stdout",
          "text": [
            "Goal found! Path:\n",
            "(0, 0)\n",
            "(0, 3)\n",
            "(3, 0)\n",
            "(3, 3)\n",
            "(4, 2)\n",
            "(4, 0)\n",
            "(1, 3)\n",
            "(1, 0)\n",
            "(0, 1)\n",
            "(4, 1)\n",
            "(2, 3)\n",
            "(2, 0)\n"
          ]
        }
      ],
      "source": [
        "class WaterJugDFS:\n",
        "    def __init__(self, initial_state=(0, 0), goal_state=(2, 0)):\n",
        "        # Define the initial and goal states\n",
        "        self.initial_state = initial_state\n",
        "        self.goal_state = goal_state\n",
        "\n",
        "    def successors(self, state):\n",
        "        X, Y = state\n",
        "        succ = []\n",
        "\n",
        "        # Action 1: Fill Jug X\n",
        "        if X < 4:\n",
        "            succ.append((4, Y))\n",
        "\n",
        "        # Action 2: Fill Jug Y\n",
        "        if Y < 3:\n",
        "            succ.append((X, 3))\n",
        "\n",
        "        # Action 3: Empty Jug X\n",
        "        if X > 0:\n",
        "            succ.append((0, Y))\n",
        "\n",
        "        # Action 4: Empty Jug Y\n",
        "        if Y > 0:\n",
        "            succ.append((X, 0))\n",
        "\n",
        "        # Action 5: Pour from X to Y\n",
        "        if X > 0 and Y < 3:\n",
        "            transfer = min(X, 3 - Y)\n",
        "            succ.append((X - transfer, Y + transfer))\n",
        "\n",
        "        # Action 6: Pour from Y to X\n",
        "        if Y > 0 and X < 4:\n",
        "            transfer = min(Y, 4 - X)\n",
        "            succ.append((X + transfer, Y - transfer))\n",
        "\n",
        "        return succ\n",
        "\n",
        "    def dfs(self, initial_state, goal_state):\n",
        "        stack = [(initial_state, [initial_state])]  # Stack of states with paths\n",
        "        visited = set()  # Set of visited states\n",
        "\n",
        "        while stack:\n",
        "            # Step 1: Pop from STACK\n",
        "            current_state, path = stack.pop()\n",
        "            visited.add(current_state)\n",
        "\n",
        "            # Step 2: Goal test\n",
        "            if current_state == goal_state:\n",
        "                # Goal found; return the path\n",
        "                return path\n",
        "\n",
        "            # Step 3: Generate successors\n",
        "            for succ in self.successors(current_state):\n",
        "                if succ not in visited and all(succ not in p[0] for p in stack):\n",
        "                    stack.append((succ, path + [succ]))\n",
        "\n",
        "        return None\n",
        "\n",
        "    def run(self):\n",
        "        # Run DFS to find the solution\n",
        "        result = self.dfs(self.initial_state, self.goal_state)\n",
        "        if result is None:\n",
        "            print(\"Goal not found\")\n",
        "        else:\n",
        "            print(\"Goal found! Path:\")\n",
        "            for state in result:\n",
        "                print(state)\n",
        "\n",
        "\n",
        "# Create an instance of the WaterJugDFS class and run it\n",
        "sol_dfs = WaterJugDFS()\n",
        "sol_dfs.run()"
      ]
    }
  ]
}