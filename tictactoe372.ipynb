{
  "nbformat": 4,
  "nbformat_minor": 0,
  "metadata": {
    "colab": {
      "provenance": [],
      "authorship_tag": "ABX9TyMCnMJyzbkk+a/UThwTVJAf",
      "include_colab_link": true
    },
    "kernelspec": {
      "name": "python3",
      "display_name": "Python 3"
    },
    "language_info": {
      "name": "python"
    }
  },
  "cells": [
    {
      "cell_type": "markdown",
      "metadata": {
        "id": "view-in-github",
        "colab_type": "text"
      },
      "source": [
        "<a href=\"https://colab.research.google.com/github/sagarthagunna/AI/blob/main/tictactoe372.ipynb\" target=\"_parent\"><img src=\"https://colab.research.google.com/assets/colab-badge.svg\" alt=\"Open In Colab\"/></a>"
      ]
    },
    {
      "cell_type": "code",
      "execution_count": null,
      "metadata": {
        "colab": {
          "base_uri": "https://localhost:8080/"
        },
        "id": "T3mZMvFDvUFf",
        "outputId": "06e789e4-2eb0-41b9-8f3a-0d26964f9135"
      },
      "outputs": [
        {
          "output_type": "stream",
          "name": "stdout",
          "text": [
            "Current Board:\n",
            "X _ O\n",
            "_ X _\n",
            "O _ _\n",
            "\n",
            "Heuristic Value (e(p)): 1\n"
          ]
        }
      ],
      "source": [
        "class TicTacToe:\n",
        "    def __init__(self, board, player, opponent):\n",
        "        \"\"\"\n",
        "        :param board: 3x3 list representing the Tic-Tac-Toe board\n",
        "        :param player: Symbol for the current player (e.g., 'X')\n",
        "        :param opponent: Symbol for the opponent (e.g., 'O')\n",
        "        \"\"\"\n",
        "        self.board = board\n",
        "        self.player = player\n",
        "        self.opponent = opponent\n",
        "\n",
        "    def is_open_line(self, line, symbol):\n",
        "        \"\"\"Check if a line (row, column, or diagonal) is open for a given symbol.\"\"\"\n",
        "        return all(cell == symbol or cell == '_' for cell in line)\n",
        "\n",
        "    def calculate_heuristic(self):\n",
        "        \"\"\"Calculate the heuristic value e(p) for the current board.\"\"\"\n",
        "        open_for_player = 0\n",
        "        open_for_opponent = 0\n",
        "\n",
        "        # Check rows\n",
        "        for row in self.board:\n",
        "            if self.is_open_line(row, self.player):\n",
        "                open_for_player += 1\n",
        "            if self.is_open_line(row, self.opponent):\n",
        "                open_for_opponent += 1\n",
        "\n",
        "        # Check columns\n",
        "        for col in range(3):\n",
        "            column = [self.board[row][col] for row in range(3)]\n",
        "            if self.is_open_line(column, self.player):\n",
        "                open_for_player += 1\n",
        "            if self.is_open_line(column, self.opponent):\n",
        "                open_for_opponent += 1\n",
        "\n",
        "        # Check diagonals\n",
        "        diagonal1 = [self.board[i][i] for i in range(3)]\n",
        "        diagonal2 = [self.board[i][2 - i] for i in range(3)]\n",
        "        if self.is_open_line(diagonal1, self.player):\n",
        "            open_for_player += 1\n",
        "        if self.is_open_line(diagonal1, self.opponent):\n",
        "            open_for_opponent += 1\n",
        "        if self.is_open_line(diagonal2, self.player):\n",
        "            open_for_player += 1\n",
        "        if self.is_open_line(diagonal2, self.opponent):\n",
        "            open_for_opponent += 1\n",
        "\n",
        "        # Calculate heuristic value\n",
        "        return open_for_player - open_for_opponent\n",
        "\n",
        "    def display_board(self):\n",
        "        \"\"\"Display the current board.\"\"\"\n",
        "        for row in self.board:\n",
        "            print(' '.join(row))\n",
        "\n",
        "\n",
        "# Define the board and players\n",
        "board = [\n",
        "    ['X', '_', 'O'],\n",
        "    ['_', 'X', '_'],\n",
        "    ['O', '_', '_']\n",
        "]\n",
        "\n",
        "# Initialize TicTacToe with the current board, player, and opponent\n",
        "tic_tac_toe = TicTacToe(board, player='X', opponent='O')\n",
        "\n",
        "# Display the board\n",
        "print(\"Current Board:\")\n",
        "tic_tac_toe.display_board()\n",
        "\n",
        "# Calculate and print the heuristic value\n",
        "heuristic_value = tic_tac_toe.calculate_heuristic()\n",
        "print(f\"\\nHeuristic Value (e(p)): {heuristic_value}\")"
      ]
    }
  ]
}