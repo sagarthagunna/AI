{
  "nbformat": 4,
  "nbformat_minor": 0,
  "metadata": {
    "colab": {
      "provenance": [],
      "authorship_tag": "ABX9TyNvsaJxq0408txN+2T60wqg",
      "include_colab_link": true
    },
    "kernelspec": {
      "name": "python3",
      "display_name": "Python 3"
    },
    "language_info": {
      "name": "python"
    }
  },
  "cells": [
    {
      "cell_type": "markdown",
      "metadata": {
        "id": "view-in-github",
        "colab_type": "text"
      },
      "source": [
        "<a href=\"https://colab.research.google.com/github/sagarthagunna/AI/blob/main/Missionaries_and_cannibals372.ipynb\" target=\"_parent\"><img src=\"https://colab.research.google.com/assets/colab-badge.svg\" alt=\"Open In Colab\"/></a>"
      ]
    },
    {
      "cell_type": "code",
      "execution_count": null,
      "metadata": {
        "colab": {
          "base_uri": "https://localhost:8080/"
        },
        "id": "TUVR0RXNTD1l",
        "outputId": "8ffb9227-a449-46b7-b586-6cd5377c053e"
      },
      "outputs": [
        {
          "output_type": "stream",
          "name": "stdout",
          "text": [
            "Solution path:\n",
            "(3, 3, 1)\n",
            "(2, 2, 0)\n",
            "(3, 2, 1)\n",
            "(3, 0, 0)\n",
            "(3, 1, 1)\n",
            "(1, 1, 0)\n",
            "(2, 2, 1)\n",
            "(0, 2, 0)\n",
            "(0, 3, 1)\n",
            "(0, 1, 0)\n",
            "(0, 2, 1)\n",
            "(0, 0, 0)\n"
          ]
        }
      ],
      "source": [
        "class MissionariesAndCannibals:\n",
        "    def __init__(self):\n",
        "        self.initial_state = (3, 3, 1)  # (Missionaries, Cannibals, Boat position)\n",
        "        self.goal_state = (0, 0, 0)  # Goal state\n",
        "\n",
        "    def goal_test(self, state):\n",
        "        return state == self.goal_state\n",
        "\n",
        "    def is_valid_state(self, state):\n",
        "        m, c, b = state\n",
        "        if m < 0 or c < 0 or m > 3 or c > 3:\n",
        "            return False\n",
        "        if (m < c and m > 0) or (3 - m < 3 - c and 3 - m > 0):\n",
        "            return False\n",
        "        return True\n",
        "\n",
        "    def get_successors(self, state):\n",
        "        m, c, b = state\n",
        "        moves = [(1, 0), (2, 0), (0, 1), (0, 2), (1, 1)]\n",
        "        successors = []\n",
        "\n",
        "        for move in moves:\n",
        "            dm, dc = move\n",
        "            if b == 1:  # Boat is on the original side\n",
        "                new_state = (m - dm, c - dc, 0)\n",
        "            else:  # Boat is on the other side\n",
        "                new_state = (m + dm, c + dc, 1)\n",
        "\n",
        "            if self.is_valid_state(new_state):\n",
        "                successors.append(new_state)\n",
        "\n",
        "        return successors\n",
        "\n",
        "    def dfs(self):\n",
        "        stack = [(self.initial_state, [])]  # (current_state, path)\n",
        "        visited = set()\n",
        "\n",
        "        while stack:\n",
        "            current_state, path = stack.pop()\n",
        "\n",
        "            if current_state in visited:\n",
        "                continue\n",
        "\n",
        "            visited.add(current_state)\n",
        "            new_path = path + [current_state]\n",
        "\n",
        "            if self.goal_test(current_state):\n",
        "                return new_path\n",
        "\n",
        "            for successor in self.get_successors(current_state):\n",
        "                stack.append((successor, new_path))\n",
        "\n",
        "        return None\n",
        "\n",
        "if __name__ == \"__main__\":\n",
        "    problem = MissionariesAndCannibals()\n",
        "    solution = problem.dfs()\n",
        "\n",
        "    if solution:\n",
        "        print(\"Solution path:\")\n",
        "        for step in solution:\n",
        "            print(step)\n",
        "    else:\n",
        "        print(\"No solution found.\")"
      ]
    }
  ]
}